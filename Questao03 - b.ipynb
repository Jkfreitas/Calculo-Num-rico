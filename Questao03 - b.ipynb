{
 "cells": [
  {
   "cell_type": "code",
   "execution_count": 2,
   "metadata": {},
   "outputs": [
    {
     "name": "stdout",
     "output_type": "stream",
     "text": [
      "Precisão: 0.0001\n",
      "X inicial: 4\n",
      "Delta: 0.0001\n",
      "\n",
      "Iteração: 1\n",
      "Valor de x2:  5.7499945815660585\n",
      "\n",
      "Iteração: 2\n",
      "Valor de x2:  5.757639969657316\n",
      "\n",
      "Iteração: 3\n",
      "Valor de x2:  5.7576411351594246\n"
     ]
    }
   ],
   "source": [
    "#Questão 3 - letra b - Newton Raphson.\n",
    "\n",
    "precisao = float(input(\"Precisão: \"))\n",
    "Xinicial = float(input(\"X inicial: \"))\n",
    "delta = float(input(\"Delta: \"))\n",
    "\n",
    "def funcaox(x):\n",
    "    \n",
    "    f = (0.0074*(x**4)) - (0.284*(x**3)) + (3.355*(x**2)) - (12.183*x) + 5\n",
    "    \n",
    "    return f\n",
    "\n",
    "def derivadaX(x):\n",
    "    \n",
    "    dx = (0.0296*(x**3)) - (0.852*(x**2)) + (6.71*x) - 12.183\n",
    "    \n",
    "    return dx\n",
    "\n",
    "\n",
    "Xfinal = Xinicial - ((funcaox(Xinicial)) / derivadaX(Xinicial))\n",
    "cont = 0\n",
    "while((abs(Xfinal - Xinicial) > precisao) or abs(funcaox(Xfinal) > delta)):\n",
    "    \n",
    "    Xinicial = Xfinal\n",
    "    Xfinal = Xinicial - ((funcaox(Xinicial)) / derivadaX(Xinicial))\n",
    "    cont = cont + 1\n",
    "    print(\"\\nIteração:\", cont)\n",
    "    print(\"Valor de x2: \", Xfinal)\n"
   ]
  },
  {
   "cell_type": "code",
   "execution_count": null,
   "metadata": {},
   "outputs": [],
   "source": []
  }
 ],
 "metadata": {
  "kernelspec": {
   "display_name": "Python 3",
   "language": "python",
   "name": "python3"
  },
  "language_info": {
   "codemirror_mode": {
    "name": "ipython",
    "version": 3
   },
   "file_extension": ".py",
   "mimetype": "text/x-python",
   "name": "python",
   "nbconvert_exporter": "python",
   "pygments_lexer": "ipython3",
   "version": "3.7.3"
  }
 },
 "nbformat": 4,
 "nbformat_minor": 2
}
