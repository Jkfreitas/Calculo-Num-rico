{
 "cells": [
  {
   "cell_type": "code",
   "execution_count": 1,
   "metadata": {},
   "outputs": [
    {
     "name": "stdout",
     "output_type": "stream",
     "text": [
      "Aproximação inicial: 0\n",
      "A aproximação inicial não pode ser igual a 0.\n",
      "Digite um valor válido!\n",
      "Aproximação inicial: 1000\n",
      "\n",
      "Iteração:  1\n",
      "Valor atual da raiz:  0.43783272853519256\n",
      "\n",
      "Iteração:  2\n",
      "Valor atual da raiz:  0.6144505096642405\n",
      "\n",
      "Iteração:  3\n",
      "Valor atual da raiz:  0.7060246281267231\n",
      "\n",
      "Iteração:  4\n",
      "Valor atual da raiz:  0.7448117752745909\n",
      "\n",
      "Iteração:  5\n",
      "Valor atual da raiz:  0.7598125744813216\n",
      "\n",
      "Iteração:  6\n",
      "Valor atual da raiz:  0.7654062023031898\n",
      "\n",
      "Iteração:  7\n",
      "Valor atual da raiz:  0.7674633484319842\n",
      "\n",
      "Iteração:  8\n",
      "Valor atual da raiz:  0.7682160328725205\n",
      "\n",
      "Iteração:  9\n",
      "Valor atual da raiz:  0.7684909141087596\n",
      "\n",
      "Iteração:  10\n",
      "Valor atual da raiz:  0.7685912321658597\n",
      "\n",
      "Iteração:  11\n",
      "Valor atual da raiz:  0.7686278341212526\n"
     ]
    }
   ],
   "source": [
    "#Questão 04\n",
    "\n",
    "import math\n",
    "\n",
    "Xzero = float(input(\"Aproximação inicial: \"))\n",
    "precisao = 0.0001\n",
    "cont = 0\n",
    "\n",
    "while Xzero == 0:\n",
    "    print(\"A aproximação inicial não pode ser igual a 0.\")\n",
    "    print(\"Digite um valor válido!\")\n",
    "    Xzero = float(input(\"Aproximação inicial: \"))\n",
    "    \n",
    "def Iteracao(x):\n",
    "    raiz = math.sqrt(x)\n",
    "    senoRaiz = math.sin(raiz)\n",
    "    \n",
    "    return senoRaiz\n",
    "\n",
    "Xfinal = Iteracao(Xzero)\n",
    "\n",
    "while(abs(Xfinal - Xzero) >= precisao):\n",
    "    \n",
    "    Xzero = Xfinal\n",
    "    Xfinal = Iteracao(Xzero)\n",
    "    \n",
    "    cont = cont + 1\n",
    "    print(\"\\nIteração: \", cont)\n",
    "    print(\"Valor atual da raiz: \", Xfinal)\n",
    "\n",
    "#COLOCAR UMA CONDIÇÃO PRA MOSTRAR QUANDO NAO FOR POSSIVEL ACHAR A APROXIMAÇÃO..\n",
    "\n",
    "\n",
    "#se f(x) = sen(sqrtx)-x e queremos achar os zeros, f(x)=x, logo sen(sqrtx)-x=0\n",
    "#como teta(x)=x, sen(sqrtx)-x=0 -> x = sen(sqrtx) -> teta(x) =  sen(sqrtx)\n",
    "#porem, derivada sen(sqrtx) é uma função onde, para quando x -> 0, derivada teta(x) -> infinito\n",
    "#derivada sen(sqrtx) so terá valores abaixo de 1 (que é um pre-requisito para ser usado nesse algoritmo)\n",
    "#para quando x>0.21, logo, em x0=0, ela diverge\n"
   ]
  },
  {
   "cell_type": "code",
   "execution_count": null,
   "metadata": {},
   "outputs": [],
   "source": []
  }
 ],
 "metadata": {
  "kernelspec": {
   "display_name": "Python 3",
   "language": "python",
   "name": "python3"
  },
  "language_info": {
   "codemirror_mode": {
    "name": "ipython",
    "version": 3
   },
   "file_extension": ".py",
   "mimetype": "text/x-python",
   "name": "python",
   "nbconvert_exporter": "python",
   "pygments_lexer": "ipython3",
   "version": "3.7.3"
  }
 },
 "nbformat": 4,
 "nbformat_minor": 2
}
