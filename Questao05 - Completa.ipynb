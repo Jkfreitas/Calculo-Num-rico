{
 "cells": [
  {
   "cell_type": "code",
   "execution_count": 2,
   "metadata": {},
   "outputs": [
    {
     "name": "stdout",
     "output_type": "stream",
     "text": [
      "CONJUNTO SOLUÇÃO PROPOSTO:  [1000, 500, 350, 400]\n",
      "MATRIZ b (COMIDA TOTAL):  [3500, 2700, 900]\n",
      "POSSIVEL RESULTADO:  [3200, 2500, 750]\n",
      "\n",
      "-------- RESPOSTA DA LETRA A --------\n",
      "\n",
      "*****CONJUNTO SOLUÇÃO ACEITO!*****\n",
      "(HAVERÁ comida suficiente para satisfazer a média diária de consumo.)\n",
      "\n",
      "TOTAL DE ALIMENTO NÃO CONSUMIDO:  [300, 200, 150]\n",
      "\n",
      "-------- RESPOSTA DA LETRA B --------\n",
      "\n",
      "TOTAL DE ANIMAIS QUE PODEM SER INDIVIDUALMENTE ACRESCIDOS:  \n",
      " [[300, 150, 0, 100], [200, 0, 100, 100], [0, 0, 150, 150]]\n"
     ]
    }
   ],
   "source": [
    "#Questão05 - letra a, b e c\n",
    "\n",
    "#------------------ Letra a ---------------------------------------------------------------------------------------------\n",
    "\n",
    "A = [[1, 2, 0, 3], [1, 0, 2, 2], [0, 0, 1, 1]]\n",
    "B = [3500, 2700, 900]\n",
    "SolucaoEntrada = [1000, 500, 350, 400]\n",
    "\n",
    "PossivelSolucao = []\n",
    "novoB = []\n",
    "\n",
    "for x in range(len(A)):\n",
    "    PossivelSolucao.clear()\n",
    "    for y in range(0, 4):\n",
    "        PossivelSolucao.append((A[x][y]*SolucaoEntrada[y]))\n",
    "        aux = sum(PossivelSolucao)\n",
    "    novoB.append(aux)\n",
    "    \n",
    "print(\"CONJUNTO SOLUÇÃO PROPOSTO: \", SolucaoEntrada)\n",
    "print(\"MATRIZ b (COMIDA TOTAL): \", B)\n",
    "print(\"POSSIVEL RESULTADO: \", novoB)\n",
    "\n",
    "print(\"\\n-------- RESPOSTA DA LETRA A --------\")\n",
    "\n",
    "if (novoB[0] <= B[0]) and (novoB[1] <= B[1]) and (novoB[2] <= B[2]):\n",
    "    print(\"\\n*****CONJUNTO SOLUÇÃO ACEITO!*****\\n(HAVERÁ comida suficiente para satisfazer a média diária de consumo.)\")\n",
    "else:\n",
    "    print(\"\\n*****CONJUNTO SOLUÇÃO NÃO ACEITO!*****\\n(NÃO HAVERÁ comida suficiente para satisfazer a média diária de consumo.)\")\n",
    "\n",
    "#------------------------ Letra b ---------------------------------------------------------------------------------------    \n",
    "\n",
    "PossivelTaxaDeAumento = [[0, 0, 0, 0], [0, 0, 0, 0], [0, 0, 0, 0]]\n",
    "AcrescimoInd = []\n",
    "\n",
    "for i in range(len(B)):\n",
    "    AcrescimoInd.append(B[i] - novoB[i])\n",
    "print(\"\\nTOTAL DE ALIMENTO NÃO CONSUMIDO: \", AcrescimoInd)\n",
    "\n",
    "print(\"\\n-------- RESPOSTA DA LETRA B --------\")\n",
    "\n",
    "for j in range(len(A)):\n",
    "    for w in range(0, 4):\n",
    "        if SolucaoEntrada[w]==0:\n",
    "            PossivelTaxaDeAumento[j][w] = 0\n",
    "        elif A[j][w]!= 0:\n",
    "            PossivelTaxaDeAumento[j][w] =int(AcrescimoInd[j]/A[j][w])\n",
    "        else:\n",
    "            PossivelTaxaDeAumento[j][w] = int(A[j][w])\n",
    "    \n",
    "print(\"\\nTOTAL DE ANIMAIS QUE PODEM SER INDIVIDUALMENTE ACRESCIDOS:  \\n\", PossivelTaxaDeAumento)\n",
    "\n",
    "#----------------------------------------------------------------------------------------------------------------------\n",
    "\n",
    "#Letra c = Para obter o resultado da Letra c, basta mudar o valor SolucaoEntrada[0] de 1000 para 0. --> [0, 500, 350, 400]\n",
    "\n"
   ]
  },
  {
   "cell_type": "code",
   "execution_count": null,
   "metadata": {},
   "outputs": [],
   "source": []
  }
 ],
 "metadata": {
  "kernelspec": {
   "display_name": "Python 3",
   "language": "python",
   "name": "python3"
  },
  "language_info": {
   "codemirror_mode": {
    "name": "ipython",
    "version": 3
   },
   "file_extension": ".py",
   "mimetype": "text/x-python",
   "name": "python",
   "nbconvert_exporter": "python",
   "pygments_lexer": "ipython3",
   "version": "3.7.3"
  }
 },
 "nbformat": 4,
 "nbformat_minor": 2
}
