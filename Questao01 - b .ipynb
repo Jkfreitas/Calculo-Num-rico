{
 "cells": [
  {
   "cell_type": "code",
   "execution_count": 1,
   "metadata": {},
   "outputs": [
    {
     "name": "stdout",
     "output_type": "stream",
     "text": [
      "Precisão: 0.001\n",
      "Valor de a: 0.2\n",
      "Valor de b: 2.2\n",
      "iteração: 1 / valor atual de c: 1.2000000000000002 \n",
      "iteração: 2 / valor atual de c: 1.7000000000000002 \n",
      "iteração: 3 / valor atual de c: 1.4500000000000002 \n",
      "iteração: 4 / valor atual de c: 1.5750000000000002 \n",
      "iteração: 5 / valor atual de c: 1.5125000000000002 \n",
      "iteração: 6 / valor atual de c: 1.5437500000000002 \n",
      "iteração: 7 / valor atual de c: 1.5281250000000002 \n",
      "iteração: 8 / valor atual de c: 1.5203125000000002 \n",
      "iteração: 9 / valor atual de c: 1.5164062500000002 \n",
      "iteração: 10 / valor atual de c: 1.5144531250000002 \n",
      "iteração: 11 / valor atual de c: 1.5134765625000002 \n",
      "\n",
      "Valor final de c:  1.5134765625000002\n"
     ]
    }
   ],
   "source": [
    "#Questão01 - letra b - bisecao.\n",
    "\n",
    "listaA = []\n",
    "listaB = []\n",
    "listaC = []\n",
    "listaba = []\n",
    "contador = 0\n",
    "\n",
    "precisao = float(input(\"Precisão: \"))\n",
    "\n",
    "a = float(input(\"Valor de a: \"))\n",
    "b = float(input(\"Valor de b: \"))\n",
    "\n",
    "def ProfCritica(y):\n",
    "    \n",
    "    A = (3*y) + ((y**2)/2)\n",
    "    B = 3+y\n",
    "    g = 9.81\n",
    "    Q = 20\n",
    "    \n",
    "    f = 1 - (((Q**2) / (g*(A**3))) * B )\n",
    "    \n",
    "    return f\n",
    "\n",
    "\n",
    "while(abs(b-a) > precisao):\n",
    "    \n",
    "    c = (b + a)/2\n",
    "    \n",
    "    fc = ProfCritica(c)\n",
    "    fa = ProfCritica(a)\n",
    "\n",
    "    if (fc*fa) < 0:\n",
    "        b=c\n",
    "        a=a\n",
    "    else:\n",
    "        a=c\n",
    "        b=b\n",
    "    contador = contador + 1\n",
    "\n",
    "    print(\"iteração: {} / valor atual de c: {} \".format(contador, c))\n",
    "    \n",
    "print(\"\\nValor final de c: \", c)    "
   ]
  },
  {
   "cell_type": "code",
   "execution_count": null,
   "metadata": {},
   "outputs": [],
   "source": []
  }
 ],
 "metadata": {
  "kernelspec": {
   "display_name": "Python 3",
   "language": "python",
   "name": "python3"
  },
  "language_info": {
   "codemirror_mode": {
    "name": "ipython",
    "version": 3
   },
   "file_extension": ".py",
   "mimetype": "text/x-python",
   "name": "python",
   "nbconvert_exporter": "python",
   "pygments_lexer": "ipython3",
   "version": "3.7.3"
  }
 },
 "nbformat": 4,
 "nbformat_minor": 2
}
