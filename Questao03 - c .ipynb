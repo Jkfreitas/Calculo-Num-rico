{
 "cells": [
  {
   "cell_type": "code",
   "execution_count": 1,
   "metadata": {},
   "outputs": [
    {
     "name": "stdout",
     "output_type": "stream",
     "text": [
      "Precisão: 0.0001\n",
      "Xzero: 17\n",
      "Xum: 18\n",
      "Delta: 0.0001\n",
      "\n",
      "Iteração: 1\n",
      "Valor de x4:  18.567182927286556\n",
      "\n",
      "Iteração: 2\n",
      "Valor de x4:  18.785476860818772\n",
      "\n",
      "Iteração: 3\n",
      "Valor de x4:  18.90695011653934\n",
      "\n",
      "Iteração: 4\n",
      "Valor de x4:  18.894347510544648\n",
      "\n",
      "Iteração: 5\n",
      "Valor de x4:  18.894764653780044\n",
      "\n",
      "Iteração: 6\n",
      "Valor de x4:  18.894766220090347\n"
     ]
    }
   ],
   "source": [
    "#Questão 3 - letra c - Secante.\n",
    "\n",
    "precisao = float(input(\"Precisão: \"))\n",
    "Xzero = float(input(\"Xzero: \"))\n",
    "Xum = float(input(\"Xum: \"))\n",
    "delta = float(input(\"Delta: \"))\n",
    "cont = 0\n",
    "\n",
    "def funcaox(x):\n",
    "    \n",
    "    f = (0.0074*(x**4)) - (0.284*(x**3)) + (3.355*(x**2)) - (12.183*x) + 5\n",
    "    \n",
    "    return f\n",
    "\n",
    "Xfinal = Xum - (funcaox(Xum)) * (((Xum - Xzero)/(funcaox(Xum)-funcaox(Xzero))))\n",
    "\n",
    "while((abs(Xfinal - Xum) > precisao) or abs(funcaox(Xfinal) > delta)):\n",
    "    Xzero = Xum \n",
    "    Xum = Xfinal\n",
    "    Xfinal = Xum - (funcaox(Xum)) * (((Xum - Xzero)/(funcaox(Xum)-funcaox(Xzero))))\n",
    "    cont = cont + 1\n",
    "    print(\"\\nIteração:\", cont)\n",
    "    print(\"Valor de x4: \", Xfinal)"
   ]
  },
  {
   "cell_type": "code",
   "execution_count": null,
   "metadata": {},
   "outputs": [],
   "source": []
  }
 ],
 "metadata": {
  "kernelspec": {
   "display_name": "Python 3",
   "language": "python",
   "name": "python3"
  },
  "language_info": {
   "codemirror_mode": {
    "name": "ipython",
    "version": 3
   },
   "file_extension": ".py",
   "mimetype": "text/x-python",
   "name": "python",
   "nbconvert_exporter": "python",
   "pygments_lexer": "ipython3",
   "version": "3.7.3"
  }
 },
 "nbformat": 4,
 "nbformat_minor": 2
}
